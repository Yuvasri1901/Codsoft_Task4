{
 "cells": [
  {
   "cell_type": "markdown",
   "id": "8c70dd3f",
   "metadata": {},
   "source": [
    "# Sales Price Prediction"
   ]
  },
  {
   "cell_type": "markdown",
   "id": "d41e0d43",
   "metadata": {},
   "source": [
    "### Importing the Libraries"
   ]
  },
  {
   "cell_type": "code",
   "execution_count": 101,
   "id": "6e176d15",
   "metadata": {},
   "outputs": [],
   "source": [
    "import pandas as pd\n",
    "import numpy as np\n",
    "import seaborn as sns\n",
    "import matplotlib.pyplot as plt\n",
    "from scipy import stats\n",
    "from sklearn.model_selection import train_test_split, GridSearchCV\n",
    "from sklearn.linear_model import LinearRegression\n",
    "from sklearn.tree import DecisionTreeRegressor\n",
    "from sklearn.ensemble import RandomForestRegressor\n",
    "from sklearn.metrics import mean_squared_error, r2_score, mean_absolute_error, mean_absolute_percentage_error\n",
    "import warnings\n",
    "warnings.filterwarnings('ignore')"
   ]
  },
  {
   "cell_type": "markdown",
   "id": "7cab3b4f",
   "metadata": {},
   "source": [
    "### Loading the dataset"
   ]
  },
  {
   "cell_type": "code",
   "execution_count": 20,
   "id": "d4831758",
   "metadata": {},
   "outputs": [],
   "source": [
    "salesdata = pd.read_csv(\"C:/Users/yuvis/Downloads/INTERNSHIPS/CODSOFT/Sales Prediction dataset.csv\")"
   ]
  },
  {
   "cell_type": "markdown",
   "id": "88cf2378",
   "metadata": {},
   "source": [
    "**Understanding the data**"
   ]
  },
  {
   "cell_type": "code",
   "execution_count": 21,
   "id": "062dcd3b",
   "metadata": {},
   "outputs": [
    {
     "data": {
      "text/html": [
       "<div>\n",
       "<style scoped>\n",
       "    .dataframe tbody tr th:only-of-type {\n",
       "        vertical-align: middle;\n",
       "    }\n",
       "\n",
       "    .dataframe tbody tr th {\n",
       "        vertical-align: top;\n",
       "    }\n",
       "\n",
       "    .dataframe thead th {\n",
       "        text-align: right;\n",
       "    }\n",
       "</style>\n",
       "<table border=\"1\" class=\"dataframe\">\n",
       "  <thead>\n",
       "    <tr style=\"text-align: right;\">\n",
       "      <th></th>\n",
       "      <th>TV</th>\n",
       "      <th>Radio</th>\n",
       "      <th>Newspaper</th>\n",
       "      <th>Sales</th>\n",
       "    </tr>\n",
       "  </thead>\n",
       "  <tbody>\n",
       "    <tr>\n",
       "      <th>0</th>\n",
       "      <td>230.1</td>\n",
       "      <td>37.8</td>\n",
       "      <td>69.2</td>\n",
       "      <td>22.1</td>\n",
       "    </tr>\n",
       "    <tr>\n",
       "      <th>1</th>\n",
       "      <td>44.5</td>\n",
       "      <td>39.3</td>\n",
       "      <td>45.1</td>\n",
       "      <td>10.4</td>\n",
       "    </tr>\n",
       "    <tr>\n",
       "      <th>2</th>\n",
       "      <td>17.2</td>\n",
       "      <td>45.9</td>\n",
       "      <td>69.3</td>\n",
       "      <td>12.0</td>\n",
       "    </tr>\n",
       "    <tr>\n",
       "      <th>3</th>\n",
       "      <td>151.5</td>\n",
       "      <td>41.3</td>\n",
       "      <td>58.5</td>\n",
       "      <td>16.5</td>\n",
       "    </tr>\n",
       "    <tr>\n",
       "      <th>4</th>\n",
       "      <td>180.8</td>\n",
       "      <td>10.8</td>\n",
       "      <td>58.4</td>\n",
       "      <td>17.9</td>\n",
       "    </tr>\n",
       "  </tbody>\n",
       "</table>\n",
       "</div>"
      ],
      "text/plain": [
       "      TV  Radio  Newspaper  Sales\n",
       "0  230.1   37.8       69.2   22.1\n",
       "1   44.5   39.3       45.1   10.4\n",
       "2   17.2   45.9       69.3   12.0\n",
       "3  151.5   41.3       58.5   16.5\n",
       "4  180.8   10.8       58.4   17.9"
      ]
     },
     "execution_count": 21,
     "metadata": {},
     "output_type": "execute_result"
    }
   ],
   "source": [
    "salesdata.head()"
   ]
  },
  {
   "cell_type": "code",
   "execution_count": 22,
   "id": "226bd45a",
   "metadata": {},
   "outputs": [
    {
     "data": {
      "text/plain": [
       "(200, 4)"
      ]
     },
     "execution_count": 22,
     "metadata": {},
     "output_type": "execute_result"
    }
   ],
   "source": [
    "salesdata.shape"
   ]
  },
  {
   "cell_type": "code",
   "execution_count": 23,
   "id": "999795d4",
   "metadata": {},
   "outputs": [
    {
     "name": "stdout",
     "output_type": "stream",
     "text": [
      "<class 'pandas.core.frame.DataFrame'>\n",
      "RangeIndex: 200 entries, 0 to 199\n",
      "Data columns (total 4 columns):\n",
      " #   Column     Non-Null Count  Dtype  \n",
      "---  ------     --------------  -----  \n",
      " 0   TV         200 non-null    float64\n",
      " 1   Radio      200 non-null    float64\n",
      " 2   Newspaper  200 non-null    float64\n",
      " 3   Sales      200 non-null    float64\n",
      "dtypes: float64(4)\n",
      "memory usage: 6.4 KB\n"
     ]
    }
   ],
   "source": [
    "salesdata.info()"
   ]
  },
  {
   "cell_type": "code",
   "execution_count": 24,
   "id": "151ddf9b",
   "metadata": {},
   "outputs": [
    {
     "data": {
      "text/html": [
       "<div>\n",
       "<style scoped>\n",
       "    .dataframe tbody tr th:only-of-type {\n",
       "        vertical-align: middle;\n",
       "    }\n",
       "\n",
       "    .dataframe tbody tr th {\n",
       "        vertical-align: top;\n",
       "    }\n",
       "\n",
       "    .dataframe thead th {\n",
       "        text-align: right;\n",
       "    }\n",
       "</style>\n",
       "<table border=\"1\" class=\"dataframe\">\n",
       "  <thead>\n",
       "    <tr style=\"text-align: right;\">\n",
       "      <th></th>\n",
       "      <th>TV</th>\n",
       "      <th>Radio</th>\n",
       "      <th>Newspaper</th>\n",
       "      <th>Sales</th>\n",
       "    </tr>\n",
       "  </thead>\n",
       "  <tbody>\n",
       "    <tr>\n",
       "      <th>count</th>\n",
       "      <td>200.000000</td>\n",
       "      <td>200.000000</td>\n",
       "      <td>200.000000</td>\n",
       "      <td>200.000000</td>\n",
       "    </tr>\n",
       "    <tr>\n",
       "      <th>mean</th>\n",
       "      <td>147.042500</td>\n",
       "      <td>23.264000</td>\n",
       "      <td>30.554000</td>\n",
       "      <td>15.130500</td>\n",
       "    </tr>\n",
       "    <tr>\n",
       "      <th>std</th>\n",
       "      <td>85.854236</td>\n",
       "      <td>14.846809</td>\n",
       "      <td>21.778621</td>\n",
       "      <td>5.283892</td>\n",
       "    </tr>\n",
       "    <tr>\n",
       "      <th>min</th>\n",
       "      <td>0.700000</td>\n",
       "      <td>0.000000</td>\n",
       "      <td>0.300000</td>\n",
       "      <td>1.600000</td>\n",
       "    </tr>\n",
       "    <tr>\n",
       "      <th>25%</th>\n",
       "      <td>74.375000</td>\n",
       "      <td>9.975000</td>\n",
       "      <td>12.750000</td>\n",
       "      <td>11.000000</td>\n",
       "    </tr>\n",
       "    <tr>\n",
       "      <th>50%</th>\n",
       "      <td>149.750000</td>\n",
       "      <td>22.900000</td>\n",
       "      <td>25.750000</td>\n",
       "      <td>16.000000</td>\n",
       "    </tr>\n",
       "    <tr>\n",
       "      <th>75%</th>\n",
       "      <td>218.825000</td>\n",
       "      <td>36.525000</td>\n",
       "      <td>45.100000</td>\n",
       "      <td>19.050000</td>\n",
       "    </tr>\n",
       "    <tr>\n",
       "      <th>max</th>\n",
       "      <td>296.400000</td>\n",
       "      <td>49.600000</td>\n",
       "      <td>114.000000</td>\n",
       "      <td>27.000000</td>\n",
       "    </tr>\n",
       "  </tbody>\n",
       "</table>\n",
       "</div>"
      ],
      "text/plain": [
       "               TV       Radio   Newspaper       Sales\n",
       "count  200.000000  200.000000  200.000000  200.000000\n",
       "mean   147.042500   23.264000   30.554000   15.130500\n",
       "std     85.854236   14.846809   21.778621    5.283892\n",
       "min      0.700000    0.000000    0.300000    1.600000\n",
       "25%     74.375000    9.975000   12.750000   11.000000\n",
       "50%    149.750000   22.900000   25.750000   16.000000\n",
       "75%    218.825000   36.525000   45.100000   19.050000\n",
       "max    296.400000   49.600000  114.000000   27.000000"
      ]
     },
     "execution_count": 24,
     "metadata": {},
     "output_type": "execute_result"
    }
   ],
   "source": [
    "salesdata.describe()"
   ]
  },
  {
   "cell_type": "markdown",
   "id": "f62dd9dc",
   "metadata": {},
   "source": [
    "### Data Cleaning"
   ]
  },
  {
   "cell_type": "markdown",
   "id": "3041f540",
   "metadata": {},
   "source": [
    "**Checking Null values**"
   ]
  },
  {
   "cell_type": "code",
   "execution_count": 25,
   "id": "81300265",
   "metadata": {
    "scrolled": true
   },
   "outputs": [
    {
     "data": {
      "text/plain": [
       "TV           0.0\n",
       "Radio        0.0\n",
       "Newspaper    0.0\n",
       "Sales        0.0\n",
       "dtype: float64"
      ]
     },
     "execution_count": 25,
     "metadata": {},
     "output_type": "execute_result"
    }
   ],
   "source": [
    "salesdata.isnull().sum()*100/salesdata.shape[0]"
   ]
  },
  {
   "cell_type": "markdown",
   "id": "dc19d87d",
   "metadata": {},
   "source": [
    "There are no NULL values in the dataset, hence it is clean."
   ]
  },
  {
   "cell_type": "markdown",
   "id": "e52087ff",
   "metadata": {},
   "source": [
    "**Outlier Analysis**"
   ]
  },
  {
   "cell_type": "markdown",
   "id": "216b55e6",
   "metadata": {},
   "source": [
    "*Identify outliers based on Z-scores*"
   ]
  },
  {
   "cell_type": "code",
   "execution_count": 31,
   "id": "78e2ac1e",
   "metadata": {},
   "outputs": [],
   "source": [
    "# Calculate the Z-scores for each column\n",
    "z_scores = np.abs(stats.zscore(salesdata))"
   ]
  },
  {
   "cell_type": "code",
   "execution_count": 32,
   "id": "e69abbf6",
   "metadata": {},
   "outputs": [
    {
     "name": "stdout",
     "output_type": "stream",
     "text": [
      "Column TV: 0 outliers\n",
      "Column Radio: 0 outliers\n",
      "Column Newspaper: 0 outliers\n",
      "Column Sales: 0 outliers\n"
     ]
    },
    {
     "data": {
      "image/png": "[encoded data removed]",
      "text/plain": [
       "<Figure size 1000x600 with 1 Axes>"
      ]
     },
     "metadata": {},
     "output_type": "display_data"
    }
   ],
   "source": [
    "threshold = 3\n",
    "outliers = np.where(z_scores > threshold)\n",
    "\n",
    "# Print the number of outliers in each column\n",
    "for i, col in enumerate(salesdata.columns):\n",
    "    print(f\"Column {col}: {np.sum(outliers[0] == i)} outliers\")\n",
    "\n",
    "# Visualize the outliers using a scatter plot\n",
    "plt.figure(figsize=(10, 6))\n",
    "sns.scatterplot(x='TV', y='Sales', data=salesdata)\n",
    "plt.title(\"TV vs Sales with Outliers\")\n",
    "plt.show()"
   ]
  },
  {
   "cell_type": "markdown",
   "id": "d8ac9c08",
   "metadata": {},
   "source": [
    "*Identify outliers using the IQR method*"
   ]
  },
  {
   "cell_type": "code",
   "execution_count": 37,
   "id": "70315cc3",
   "metadata": {
    "scrolled": true
   },
   "outputs": [
    {
     "name": "stdout",
     "output_type": "stream",
     "text": [
      "Outliers using IQR method:\n",
      "TV           0\n",
      "Radio        0\n",
      "Newspaper    2\n",
      "Sales        0\n",
      "dtype: int64\n"
     ]
    },
    {
     "data": {
      "image/png": "[encoded data removed]",
      "text/plain": [
       "<Figure size 1000x600 with 1 Axes>"
      ]
     },
     "metadata": {},
     "output_type": "display_data"
    }
   ],
   "source": [
    "Q1 = salesdata.quantile(0.25)\n",
    "Q3 = salesdata.quantile(0.75)\n",
    "IQR = Q3 - Q1\n",
    "\n",
    "outliers_iqr = ((salesdata < (Q1 - 1.5 * IQR)) | (salesdata > (Q3 + 1.5 * IQR))).sum()\n",
    "\n",
    "print(\"Outliers using IQR method:\")\n",
    "print(outliers_iqr)\n",
    "\n",
    "# Visualize the outliers using a box plot\n",
    "plt.figure(figsize=(10, 6))\n",
    "sns.boxplot(data=salesdata)\n",
    "plt.title(\"Box Plot with Outliers\")\n",
    "plt.show()"
   ]
  },
  {
   "cell_type": "markdown",
   "id": "dc9dc33a",
   "metadata": {},
   "source": [
    "Based on the Z-score method, there are no outliers in any of the columns, but based on the IQR method, there are 2 outliers in the Newspaper column.\n",
    "\n",
    "This is not uncommon, as the Z-score method and IQR method have different assumptions and sensitivities to outliers.\n",
    "\n",
    "The Z-score method is more sensitive to outliers that are far away from the mean, while the IQR method is more sensitive to outliers that are far away from the median. In this case, it's possible that the 2 outliers in the Newspaper column are not extremely far away from the mean, but are still far enough away from the median to be detected by the IQR method."
   ]
  },
  {
   "cell_type": "code",
   "execution_count": 38,
   "id": "ec6716f3",
   "metadata": {
    "scrolled": true
   },
   "outputs": [
    {
     "name": "stdout",
     "output_type": "stream",
     "text": [
      "        TV  Radio  Newspaper  Sales\n",
      "16    67.8   36.6      114.0   12.5\n",
      "101  296.4   36.3      100.9   23.8\n"
     ]
    }
   ],
   "source": [
    "# Investigate the outliers\n",
    "\n",
    "outlier_rows = salesdata.loc[(salesdata['Newspaper'] < (Q1['Newspaper'] - 1.5 * IQR['Newspaper'])) | (salesdata['Newspaper'] > (Q3['Newspaper'] + 1.5 * IQR['Newspaper']))]\n",
    "print(outlier_rows)"
   ]
  },
  {
   "cell_type": "code",
   "execution_count": 53,
   "id": "ffea6008",
   "metadata": {},
   "outputs": [],
   "source": [
    "# Define the robust scaling function\n",
    "def robust_scale(salesdata):\n",
    "    Q1 = salesdata.quantile(0.25)\n",
    "    Q3 = salesdata.quantile(0.75)\n",
    "    IQR = Q3 - Q1\n",
    "    return (salesdata - Q1) / IQR"
   ]
  },
  {
   "cell_type": "markdown",
   "id": "fc77118f",
   "metadata": {},
   "source": [
    "## Data Visualization"
   ]
  },
  {
   "cell_type": "markdown",
   "id": "966dfbc8",
   "metadata": {},
   "source": [
    "### Statistical Summary"
   ]
  },
  {
   "cell_type": "code",
   "execution_count": 95,
   "id": "65c6c6c2",
   "metadata": {},
   "outputs": [
    {
     "data": {
      "text/html": [
       "<style type=\"text/css\">\n",
       "#T_44c24_row0_col0, #T_44c24_row1_col0, #T_44c24_row1_col3, #T_44c24_row1_col4, #T_44c24_row2_col0, #T_44c24_row3_col0, #T_44c24_row3_col1, #T_44c24_row3_col2, #T_44c24_row3_col5, #T_44c24_row3_col6, #T_44c24_row3_col7 {\n",
       "  background-color: #edb081;\n",
       "  color: #000000;\n",
       "}\n",
       "#T_44c24_row0_col1, #T_44c24_row0_col2, #T_44c24_row0_col4, #T_44c24_row0_col5, #T_44c24_row0_col6, #T_44c24_row0_col7, #T_44c24_row3_col3 {\n",
       "  background-color: #4b2362;\n",
       "  color: #f1f1f1;\n",
       "}\n",
       "#T_44c24_row0_col3 {\n",
       "  background-color: #d04962;\n",
       "  color: #f1f1f1;\n",
       "}\n",
       "#T_44c24_row1_col1 {\n",
       "  background-color: #eca178;\n",
       "  color: #000000;\n",
       "}\n",
       "#T_44c24_row1_col2 {\n",
       "  background-color: #ea936f;\n",
       "  color: #f1f1f1;\n",
       "}\n",
       "#T_44c24_row1_col5 {\n",
       "  background-color: #eca379;\n",
       "  color: #000000;\n",
       "}\n",
       "#T_44c24_row1_col6 {\n",
       "  background-color: #eb9a73;\n",
       "  color: #000000;\n",
       "}\n",
       "#T_44c24_row1_col7 {\n",
       "  background-color: #eb9b74;\n",
       "  color: #000000;\n",
       "}\n",
       "#T_44c24_row2_col1 {\n",
       "  background-color: #ea946f;\n",
       "  color: #f1f1f1;\n",
       "}\n",
       "#T_44c24_row2_col2 {\n",
       "  background-color: #e77d63;\n",
       "  color: #f1f1f1;\n",
       "}\n",
       "#T_44c24_row2_col3 {\n",
       "  background-color: #e88265;\n",
       "  color: #f1f1f1;\n",
       "}\n",
       "#T_44c24_row2_col4 {\n",
       "  background-color: #eca57a;\n",
       "  color: #000000;\n",
       "}\n",
       "#T_44c24_row2_col5 {\n",
       "  background-color: #eb9e76;\n",
       "  color: #000000;\n",
       "}\n",
       "#T_44c24_row2_col6 {\n",
       "  background-color: #ea906d;\n",
       "  color: #f1f1f1;\n",
       "}\n",
       "#T_44c24_row2_col7 {\n",
       "  background-color: #e05f5c;\n",
       "  color: #f1f1f1;\n",
       "}\n",
       "#T_44c24_row3_col4 {\n",
       "  background-color: #edac7e;\n",
       "  color: #000000;\n",
       "}\n",
       "</style>\n",
       "<table id=\"T_44c24\">\n",
       "  <thead>\n",
       "    <tr>\n",
       "      <th class=\"blank level0\" >&nbsp;</th>\n",
       "      <th id=\"T_44c24_level0_col0\" class=\"col_heading level0 col0\" >count</th>\n",
       "      <th id=\"T_44c24_level0_col1\" class=\"col_heading level0 col1\" >mean</th>\n",
       "      <th id=\"T_44c24_level0_col2\" class=\"col_heading level0 col2\" >std</th>\n",
       "      <th id=\"T_44c24_level0_col3\" class=\"col_heading level0 col3\" >min</th>\n",
       "      <th id=\"T_44c24_level0_col4\" class=\"col_heading level0 col4\" >25%</th>\n",
       "      <th id=\"T_44c24_level0_col5\" class=\"col_heading level0 col5\" >50%</th>\n",
       "      <th id=\"T_44c24_level0_col6\" class=\"col_heading level0 col6\" >75%</th>\n",
       "      <th id=\"T_44c24_level0_col7\" class=\"col_heading level0 col7\" >max</th>\n",
       "    </tr>\n",
       "  </thead>\n",
       "  <tbody>\n",
       "    <tr>\n",
       "      <th id=\"T_44c24_level0_row0\" class=\"row_heading level0 row0\" >TV</th>\n",
       "      <td id=\"T_44c24_row0_col0\" class=\"data row0 col0\" >200.000000</td>\n",
       "      <td id=\"T_44c24_row0_col1\" class=\"data row0 col1\" >147.042500</td>\n",
       "      <td id=\"T_44c24_row0_col2\" class=\"data row0 col2\" >85.854236</td>\n",
       "      <td id=\"T_44c24_row0_col3\" class=\"data row0 col3\" >0.700000</td>\n",
       "      <td id=\"T_44c24_row0_col4\" class=\"data row0 col4\" >74.375000</td>\n",
       "      <td id=\"T_44c24_row0_col5\" class=\"data row0 col5\" >149.750000</td>\n",
       "      <td id=\"T_44c24_row0_col6\" class=\"data row0 col6\" >218.825000</td>\n",
       "      <td id=\"T_44c24_row0_col7\" class=\"data row0 col7\" >296.400000</td>\n",
       "    </tr>\n",
       "    <tr>\n",
       "      <th id=\"T_44c24_level0_row1\" class=\"row_heading level0 row1\" >Radio</th>\n",
       "      <td id=\"T_44c24_row1_col0\" class=\"data row1 col0\" >200.000000</td>\n",
       "      <td id=\"T_44c24_row1_col1\" class=\"data row1 col1\" >23.264000</td>\n",
       "      <td id=\"T_44c24_row1_col2\" class=\"data row1 col2\" >14.846809</td>\n",
       "      <td id=\"T_44c24_row1_col3\" class=\"data row1 col3\" >0.000000</td>\n",
       "      <td id=\"T_44c24_row1_col4\" class=\"data row1 col4\" >9.975000</td>\n",
       "      <td id=\"T_44c24_row1_col5\" class=\"data row1 col5\" >22.900000</td>\n",
       "      <td id=\"T_44c24_row1_col6\" class=\"data row1 col6\" >36.525000</td>\n",
       "      <td id=\"T_44c24_row1_col7\" class=\"data row1 col7\" >49.600000</td>\n",
       "    </tr>\n",
       "    <tr>\n",
       "      <th id=\"T_44c24_level0_row2\" class=\"row_heading level0 row2\" >Newspaper</th>\n",
       "      <td id=\"T_44c24_row2_col0\" class=\"data row2 col0\" >200.000000</td>\n",
       "      <td id=\"T_44c24_row2_col1\" class=\"data row2 col1\" >30.554000</td>\n",
       "      <td id=\"T_44c24_row2_col2\" class=\"data row2 col2\" >21.778621</td>\n",
       "      <td id=\"T_44c24_row2_col3\" class=\"data row2 col3\" >0.300000</td>\n",
       "      <td id=\"T_44c24_row2_col4\" class=\"data row2 col4\" >12.750000</td>\n",
       "      <td id=\"T_44c24_row2_col5\" class=\"data row2 col5\" >25.750000</td>\n",
       "      <td id=\"T_44c24_row2_col6\" class=\"data row2 col6\" >45.100000</td>\n",
       "      <td id=\"T_44c24_row2_col7\" class=\"data row2 col7\" >114.000000</td>\n",
       "    </tr>\n",
       "    <tr>\n",
       "      <th id=\"T_44c24_level0_row3\" class=\"row_heading level0 row3\" >Sales</th>\n",
       "      <td id=\"T_44c24_row3_col0\" class=\"data row3 col0\" >200.000000</td>\n",
       "      <td id=\"T_44c24_row3_col1\" class=\"data row3 col1\" >15.130500</td>\n",
       "      <td id=\"T_44c24_row3_col2\" class=\"data row3 col2\" >5.283892</td>\n",
       "      <td id=\"T_44c24_row3_col3\" class=\"data row3 col3\" >1.600000</td>\n",
       "      <td id=\"T_44c24_row3_col4\" class=\"data row3 col4\" >11.000000</td>\n",
       "      <td id=\"T_44c24_row3_col5\" class=\"data row3 col5\" >16.000000</td>\n",
       "      <td id=\"T_44c24_row3_col6\" class=\"data row3 col6\" >19.050000</td>\n",
       "      <td id=\"T_44c24_row3_col7\" class=\"data row3 col7\" >27.000000</td>\n",
       "    </tr>\n",
       "  </tbody>\n",
       "</table>\n"
      ],
      "text/plain": [
       "<pandas.io.formats.style.Styler at 0x19c8bd9faf0>"
      ]
     },
     "execution_count": 95,
     "metadata": {},
     "output_type": "execute_result"
    }
   ],
   "source": [
    "numerical_summary = salesdata.describe().transpose()\n",
    "palette = sns.color_palette(\"flare\", as_cmap=True)\n",
    "numerical_summary.style.background_gradient(cmap=palette)"
   ]
  },
  {
   "cell_type": "markdown",
   "id": "4aa6b243",
   "metadata": {},
   "source": [
    "Sales(Target Variable)"
   ]
  },
  {
   "cell_type": "code",
   "execution_count": 91,
   "id": "95c2d598",
   "metadata": {
    "scrolled": true
   },
   "outputs": [
    {
     "data": {
      "image/png": "[encoded data removed]",
      "text/plain": [
       "<Figure size 640x480 with 1 Axes>"
      ]
     },
     "metadata": {},
     "output_type": "display_data"
    }
   ],
   "source": [
    "sns.boxplot(salesdata['Sales'])\n",
    "plt.show()"
   ]
  },
  {
   "cell_type": "markdown",
   "id": "3dd7b34c",
   "metadata": {},
   "source": [
    "How Sales are related with other variables using scatter plot"
   ]
  },
  {
   "cell_type": "code",
   "execution_count": 92,
   "id": "e1625389",
   "metadata": {},
   "outputs": [
    {
     "data": {
      "image/png": "[encoded data removed]",
      "text/plain": [
       "<Figure size 1200x400 with 3 Axes>"
      ]
     },
     "metadata": {},
     "output_type": "display_data"
    }
   ],
   "source": [
    "sns.pairplot(salesdata, x_vars=['TV', 'Newspaper', 'Radio'], y_vars='Sales', height=4, aspect=1, kind='scatter')\n",
    "plt.show()"
   ]
  },
  {
   "cell_type": "markdown",
   "id": "f93a3f0c",
   "metadata": {},
   "source": [
    "Correlation between different variables"
   ]
  },
  {
   "cell_type": "code",
   "execution_count": 93,
   "id": "1e5f2b95",
   "metadata": {
    "scrolled": true
   },
   "outputs": [
    {
     "data": {
      "image/png": "[encoded data removed]",
      "text/plain": [
       "<Figure size 640x480 with 2 Axes>"
      ]
     },
     "metadata": {},
     "output_type": "display_data"
    }
   ],
   "source": [
    "sns.heatmap(salesdata.corr(), cmap=\"Oranges\", annot = True)\n",
    "plt.show()"
   ]
  },
  {
   "cell_type": "markdown",
   "id": "ff992c3a",
   "metadata": {},
   "source": [
    "As is visible from the pairplot and the heatmap, the variable TV seems to be most correlated with Sales"
   ]
  },
  {
   "cell_type": "markdown",
   "id": "e2fb03ae",
   "metadata": {},
   "source": [
    "## Model Building"
   ]
  },
  {
   "cell_type": "markdown",
   "id": "5ff92d75",
   "metadata": {},
   "source": [
    "**Define the features (X) and target (y)**"
   ]
  },
  {
   "cell_type": "code",
   "execution_count": 54,
   "id": "60f9e5d4",
   "metadata": {},
   "outputs": [],
   "source": [
    "X = salesdata[['TV', 'Radio', 'Newspaper']]\n",
    "y = salesdata['Sales']"
   ]
  },
  {
   "cell_type": "markdown",
   "id": "269c28fa",
   "metadata": {},
   "source": [
    "**Splitting the dataset**"
   ]
  },
  {
   "cell_type": "code",
   "execution_count": 55,
   "id": "7e6a56f4",
   "metadata": {},
   "outputs": [],
   "source": [
    "X_train, X_test, y_train, y_test = train_test_split(X, y, test_size=0.2, random_state=42)\n"
   ]
  },
  {
   "cell_type": "markdown",
   "id": "838de62c",
   "metadata": {},
   "source": [
    "**Apply robust scaling to each feature (column) separately**"
   ]
  },
  {
   "cell_type": "code",
   "execution_count": 56,
   "id": "1045ed3a",
   "metadata": {},
   "outputs": [],
   "source": [
    "X_train_scaled = X_train.apply(robust_scale)\n",
    "X_test_scaled = X_test.apply(robust_scale)"
   ]
  },
  {
   "cell_type": "markdown",
   "id": "6914dee5",
   "metadata": {},
   "source": [
    "### Random Forest Model"
   ]
  },
  {
   "cell_type": "code",
   "execution_count": 73,
   "id": "9717a159",
   "metadata": {},
   "outputs": [],
   "source": [
    "# Train a random forest regressor model on the scaled data\n",
    "rf_model = RandomForestRegressor(n_estimators=100, random_state=42)\n",
    "rf_model.fit(X_train_scaled, y_train)\n",
    "\n",
    "# Make predictions on the testing data\n",
    "y_pred_rf= rf_model.predict(X_test_scaled)"
   ]
  },
  {
   "cell_type": "markdown",
   "id": "8a664f4c",
   "metadata": {},
   "source": [
    "### Linear Regression Model"
   ]
  },
  {
   "cell_type": "code",
   "execution_count": 61,
   "id": "49bb16b7",
   "metadata": {},
   "outputs": [],
   "source": [
    "# Train a Linear Regression model on the scaled data\n",
    "lr_model = LinearRegression()\n",
    "lr_model.fit(X_train_scaled, y_train)\n",
    "\n",
    "# Make predictions on the testing data\n",
    "y_pred_lr = lr_model.predict(X_test_scaled)"
   ]
  },
  {
   "cell_type": "markdown",
   "id": "d2622bb5",
   "metadata": {},
   "source": [
    "### Decision Tree"
   ]
  },
  {
   "cell_type": "code",
   "execution_count": 62,
   "id": "1b38bf3e",
   "metadata": {},
   "outputs": [],
   "source": [
    "# Train a Decision Tree Regressor model on the scaled data\n",
    "dt_model = DecisionTreeRegressor(random_state=42)\n",
    "dt_model.fit(X_train_scaled, y_train)\n",
    "\n",
    "# Make predictions on the testing data\n",
    "y_pred_dt = dt_model.predict(X_test_scaled)"
   ]
  },
  {
   "cell_type": "markdown",
   "id": "4500775b",
   "metadata": {},
   "source": [
    "## Model Evaluation"
   ]
  },
  {
   "cell_type": "markdown",
   "id": "40e67ee2",
   "metadata": {},
   "source": [
    "**Random Forest**"
   ]
  },
  {
   "cell_type": "code",
   "execution_count": 90,
   "id": "4df4d845",
   "metadata": {},
   "outputs": [
    {
     "name": "stdout",
     "output_type": "stream",
     "text": [
      "Random Forest Regressor performance: \n",
      "\n",
      "R-squared: 0.854655142535379\n",
      "Mean squared error: 4.491315974999999\n",
      "Mean Absolute Error: 1.7145249999999983\n",
      "Mean Absolute Percentage Error: 0.18116238125317147\n",
      "Root Mean Squared Error: 2.1192725107923236\n",
      "False\n"
     ]
    }
   ],
   "source": [
    "print(\"Random Forest Regressor performance:\",'\\n')\n",
    "print(\"R-squared:\", rf_model.score(X_test_scaled, y_test))\n",
    "print(\"Mean squared error:\",mean_squared_error(y_test, y_pred_rf))\n",
    "print(\"Mean Absolute Error:\",mean_absolute_error(y_test, y_pred_rf))\n",
    "print(\"Mean Absolute Percentage Error:\", mean_absolute_percentage_error(y_test, y_pred_rf))\n",
    "rmse_rf = np.sqrt(mean_squared_error(y_test, y_pred_rf))\n",
    "print(\"Root Mean Squared Error:\", rmse_rf)\n",
    "oob_score=rf_model.oob_score\n",
    "print(oob_score)"
   ]
  },
  {
   "cell_type": "markdown",
   "id": "daf8f596",
   "metadata": {},
   "source": [
    "**Linear Regression**"
   ]
  },
  {
   "cell_type": "code",
   "execution_count": 86,
   "id": "0ddad96d",
   "metadata": {},
   "outputs": [
    {
     "name": "stdout",
     "output_type": "stream",
     "text": [
      "Linear Regression performance: \n",
      "\n",
      "R-squared: 0.8673446480646232\n",
      "Mean squared error: 4.099196295690272\n",
      "Mean Absolute Error: 1.618357881374117\n",
      "Mean Absolute Percentage Error: 0.1591457963299881\n",
      "Root Mean Squared Error: 2.0246472027714537\n"
     ]
    }
   ],
   "source": [
    "# Evaluate the model's performance\n",
    "print(\"Linear Regression performance:\",'\\n')\n",
    "print(\"R-squared:\", lr_model.score(X_test_scaled, y_test))\n",
    "print(\"Mean squared error:\",mean_squared_error(y_test, y_pred_lr))\n",
    "print(\"Mean Absolute Error:\",mean_absolute_error(y_test, y_pred_lr))\n",
    "print(\"Mean Absolute Percentage Error:\", mean_absolute_percentage_error(y_test, y_pred_lr))\n",
    "rmse_lr = np.sqrt(mean_squared_error(y_test, y_pred_lr))\n",
    "print(\"Root Mean Squared Error:\", rmse_lr)"
   ]
  },
  {
   "cell_type": "markdown",
   "id": "57009ca8",
   "metadata": {},
   "source": [
    "**Decision Tree**"
   ]
  },
  {
   "cell_type": "code",
   "execution_count": 84,
   "id": "34d39519",
   "metadata": {
    "scrolled": true
   },
   "outputs": [
    {
     "name": "stdout",
     "output_type": "stream",
     "text": [
      "Decision Tree Regressor performance: \n",
      "\n",
      "R-squared: 0.7726375436473135\n",
      "Mean squared error: 7.0257499999999995\n",
      "Mean Absolute Error: 2.0275\n",
      "Mean Absolute Percentage Error: 0.2155680662104281\n",
      "Root Mean Squared Error: 2.650613136615753\n"
     ]
    }
   ],
   "source": [
    "# Evaluate the model's performance\n",
    "print(\"Decision Tree Regressor performance:\",'\\n')\n",
    "print(\"R-squared:\", dt_model.score(X_test_scaled, y_test))\n",
    "print(\"Mean squared error:\",mean_squared_error(y_test, y_pred_dt))\n",
    "print(\"Mean Absolute Error:\",mean_absolute_error(y_test, y_pred_dt))\n",
    "print(\"Mean Absolute Percentage Error:\", mean_absolute_percentage_error(y_test, y_pred_dt))\n",
    "rmse_dt = np.sqrt(mean_squared_error(y_test, y_pred_dt))\n",
    "print(\"Root Mean Squared Error:\", rmse_dt)"
   ]
  },
  {
   "cell_type": "markdown",
   "id": "a4e0f10f",
   "metadata": {},
   "source": [
    "## Final Prediction"
   ]
  },
  {
   "cell_type": "markdown",
   "id": "4898072c",
   "metadata": {},
   "source": [
    "**Ask the user to choose a Product**"
   ]
  },
  {
   "cell_type": "code",
   "execution_count": 121,
   "id": "b39991b3",
   "metadata": {},
   "outputs": [
    {
     "name": "stdout",
     "output_type": "stream",
     "text": [
      "Choose a product:\n",
      "1. TV\n",
      "2. Radio\n",
      "3. Newspaper\n",
      "Enter the number of your chosen product: 2\n"
     ]
    }
   ],
   "source": [
    "print(\"Choose a product:\")\n",
    "print(\"1. TV\")\n",
    "print(\"2. Radio\")\n",
    "print(\"3. Newspaper\")\n",
    "product_choice = int(input(\"Enter the number of your chosen product: \"))\n",
    "\n",
    "if product_choice == 1:\n",
    "    product = \"TV\"\n",
    "    X = salesdata[[\"Radio\", \"Newspaper\"]]\n",
    "    y = salesdata[\"TV\"]\n",
    "elif product_choice == 2:\n",
    "    product = \"Radio\"\n",
    "    X = salesdata[[\"TV\", \"Newspaper\"]]\n",
    "    y = salesdata[\"Radio\"]\n",
    "elif product_choice == 3:\n",
    "    product = \"Newspaper\"\n",
    "    X = salesdata[[\"TV\", \"Radio\"]]\n",
    "    y = salesdata[\"Newspaper\"]\n",
    "else:\n",
    "    print(\"Invalid product choice. Exiting.\")\n",
    "    exit()"
   ]
  },
  {
   "cell_type": "markdown",
   "id": "653e4164",
   "metadata": {},
   "source": [
    "**Ask the user to choose a model**"
   ]
  },
  {
   "cell_type": "code",
   "execution_count": 122,
   "id": "3bdf27b1",
   "metadata": {},
   "outputs": [
    {
     "name": "stdout",
     "output_type": "stream",
     "text": [
      "Choose a model:\n",
      "1. Linear Regression\n",
      "2. Decision Tree Regressor\n",
      "3. Random Forest Regressor\n",
      "Enter the number of your chosen model: 1\n"
     ]
    }
   ],
   "source": [
    "print(\"Choose a model:\")\n",
    "print(\"1. Linear Regression\")\n",
    "print(\"2. Decision Tree Regressor\")\n",
    "print(\"3. Random Forest Regressor\")\n",
    "model_choice = int(input(\"Enter the number of your chosen model: \"))\n",
    "\n",
    "if model_choice == 1:\n",
    "    model = LinearRegression()\n",
    "    chosen_model = \"Linear Regression\"\n",
    "elif model_choice == 2:\n",
    "    model = DecisionTreeRegressor()\n",
    "    chosen_model = \"Decision Tree Regressor\"\n",
    "elif model_choice == 3:\n",
    "    model = RandomForestRegressor()\n",
    "    chosen_model = \"Random Forest Regressor\"\n",
    "else:\n",
    "    print(\"Invalid model choice. Exiting.\")\n",
    "    exit()"
   ]
  },
  {
   "cell_type": "code",
   "execution_count": 123,
   "id": "0ca70a21",
   "metadata": {},
   "outputs": [
    {
     "data": {
      "text/html": [
       "<style>#sk-container-id-2 {color: black;background-color: white;}#sk-container-id-2 pre{padding: 0;}#sk-container-id-2 div.sk-toggleable {background-color: white;}#sk-container-id-2 label.sk-toggleable__label {cursor: pointer;display: block;width: 100%;margin-bottom: 0;padding: 0.3em;box-sizing: border-box;text-align: center;}#sk-container-id-2 label.sk-toggleable__label-arrow:before {content: \"▸\";float: left;margin-right: 0.25em;color: #696969;}#sk-container-id-2 label.sk-toggleable__label-arrow:hover:before {color: black;}#sk-container-id-2 div.sk-estimator:hover label.sk-toggleable__label-arrow:before {color: black;}#sk-container-id-2 div.sk-toggleable__content {max-height: 0;max-width: 0;overflow: hidden;text-align: left;background-color: #f0f8ff;}#sk-container-id-2 div.sk-toggleable__content pre {margin: 0.2em;color: black;border-radius: 0.25em;background-color: #f0f8ff;}#sk-container-id-2 input.sk-toggleable__control:checked~div.sk-toggleable__content {max-height: 200px;max-width: 100%;overflow: auto;}#sk-container-id-2 input.sk-toggleable__control:checked~label.sk-toggleable__label-arrow:before {content: \"▾\";}#sk-container-id-2 div.sk-estimator input.sk-toggleable__control:checked~label.sk-toggleable__label {background-color: #d4ebff;}#sk-container-id-2 div.sk-label input.sk-toggleable__control:checked~label.sk-toggleable__label {background-color: #d4ebff;}#sk-container-id-2 input.sk-hidden--visually {border: 0;clip: rect(1px 1px 1px 1px);clip: rect(1px, 1px, 1px, 1px);height: 1px;margin: -1px;overflow: hidden;padding: 0;position: absolute;width: 1px;}#sk-container-id-2 div.sk-estimator {font-family: monospace;background-color: #f0f8ff;border: 1px dotted black;border-radius: 0.25em;box-sizing: border-box;margin-bottom: 0.5em;}#sk-container-id-2 div.sk-estimator:hover {background-color: #d4ebff;}#sk-container-id-2 div.sk-parallel-item::after {content: \"\";width: 100%;border-bottom: 1px solid gray;flex-grow: 1;}#sk-container-id-2 div.sk-label:hover label.sk-toggleable__label {background-color: #d4ebff;}#sk-container-id-2 div.sk-serial::before {content: \"\";position: absolute;border-left: 1px solid gray;box-sizing: border-box;top: 0;bottom: 0;left: 50%;z-index: 0;}#sk-container-id-2 div.sk-serial {display: flex;flex-direction: column;align-items: center;background-color: white;padding-right: 0.2em;padding-left: 0.2em;position: relative;}#sk-container-id-2 div.sk-item {position: relative;z-index: 1;}#sk-container-id-2 div.sk-parallel {display: flex;align-items: stretch;justify-content: center;background-color: white;position: relative;}#sk-container-id-2 div.sk-item::before, #sk-container-id-2 div.sk-parallel-item::before {content: \"\";position: absolute;border-left: 1px solid gray;box-sizing: border-box;top: 0;bottom: 0;left: 50%;z-index: -1;}#sk-container-id-2 div.sk-parallel-item {display: flex;flex-direction: column;z-index: 1;position: relative;background-color: white;}#sk-container-id-2 div.sk-parallel-item:first-child::after {align-self: flex-end;width: 50%;}#sk-container-id-2 div.sk-parallel-item:last-child::after {align-self: flex-start;width: 50%;}#sk-container-id-2 div.sk-parallel-item:only-child::after {width: 0;}#sk-container-id-2 div.sk-dashed-wrapped {border: 1px dashed gray;margin: 0 0.4em 0.5em 0.4em;box-sizing: border-box;padding-bottom: 0.4em;background-color: white;}#sk-container-id-2 div.sk-label label {font-family: monospace;font-weight: bold;display: inline-block;line-height: 1.2em;}#sk-container-id-2 div.sk-label-container {text-align: center;}#sk-container-id-2 div.sk-container {/* jupyter's `normalize.less` sets `[hidden] { display: none; }` but bootstrap.min.css set `[hidden] { display: none !important; }` so we also need the `!important` here to be able to override the default hidden behavior on the sphinx rendered scikit-learn.org. See: https://github.com/scikit-learn/scikit-learn/issues/21755 */display: inline-block !important;position: relative;}#sk-container-id-2 div.sk-text-repr-fallback {display: none;}</style><div id=\"sk-container-id-2\" class=\"sk-top-container\"><div class=\"sk-text-repr-fallback\"><pre>LinearRegression()</pre><b>In a Jupyter environment, please rerun this cell to show the HTML representation or trust the notebook. <br />On GitHub, the HTML representation is unable to render, please try loading this page with nbviewer.org.</b></div><div class=\"sk-container\" hidden><div class=\"sk-item\"><div class=\"sk-estimator sk-toggleable\"><input class=\"sk-toggleable__control sk-hidden--visually\" id=\"sk-estimator-id-2\" type=\"checkbox\" checked><label for=\"sk-estimator-id-2\" class=\"sk-toggleable__label sk-toggleable__label-arrow\">LinearRegression</label><div class=\"sk-toggleable__content\"><pre>LinearRegression()</pre></div></div></div></div></div>"
      ],
      "text/plain": [
       "LinearRegression()"
      ]
     },
     "execution_count": 123,
     "metadata": {},
     "output_type": "execute_result"
    }
   ],
   "source": [
    "# Train the model\n",
    "model.fit(X_train, y_train)"
   ]
  },
  {
   "cell_type": "markdown",
   "id": "754a6fe0",
   "metadata": {},
   "source": [
    "**Ask the user to input new data**"
   ]
  },
  {
   "cell_type": "code",
   "execution_count": 126,
   "id": "a7ad50a8",
   "metadata": {},
   "outputs": [
    {
     "name": "stdout",
     "output_type": "stream",
     "text": [
      "Enter new data:\n",
      "Radio advertising expenditure: 123456\n",
      "Newspaper advertising expenditure: 1234569\n"
     ]
    }
   ],
   "source": [
    "print(\"Enter new data:\")\n",
    "if product != \"TV\":\n",
    "    Radio = float(input(\"Radio advertising expenditure: \"))\n",
    "    Newspaper = float(input(\"Newspaper advertising expenditure: \"))\n",
    "    new_data = pd.DataFrame({\n",
    "        \"Radio\": [Radio],\n",
    "        \"Newspaper\": [Newspaper]\n",
    "    })\n",
    "elif product != \"Radio\":\n",
    "    TV = float(input(\"TV advertising expenditure: \"))\n",
    "    Newspaper = float(input(\"Newspaper advertising expenditure: \"))\n",
    "    new_data = pd.DataFrame({\n",
    "        \"TV\": [TV],\n",
    "        \"Newspaper\": [Newspaper]\n",
    "    })\n",
    "else:\n",
    "    TV = float(input(\"TV advertising expenditure: \"))\n",
    "    Radio = float(input(\"Radio advertising expenditure: \"))\n",
    "    new_data = pd.DataFrame({\n",
    "        \"TV\": [TV],\n",
    "        \"Radio\": [Radio]\n",
    "    })"
   ]
  },
  {
   "cell_type": "markdown",
   "id": "865fcf7c",
   "metadata": {},
   "source": [
    "**Make a Prediction**"
   ]
  },
  {
   "cell_type": "code",
   "execution_count": 127,
   "id": "be20a26b",
   "metadata": {},
   "outputs": [
    {
     "name": "stdout",
     "output_type": "stream",
     "text": [
      "Predicted sales of Radio using Linear Regression: 27658.58\n"
     ]
    }
   ],
   "source": [
    "prediction = model.predict(new_data)\n",
    "\n",
    "# Print the predicted sales\n",
    "print(f\"Predicted sales of {product} using {chosen_model}: {prediction[0]:.2f}\")"
   ]
  }
 ],
 "metadata": {
  "kernelspec": {
   "display_name": "Python 3 (ipykernel)",
   "language": "python",
   "name": "python3"
  },
  "language_info": {
   "codemirror_mode": {
    "name": "ipython",
    "version": 3
   },
   "file_extension": ".py",
   "mimetype": "text/x-python",
   "name": "python",
   "nbconvert_exporter": "python",
   "pygments_lexer": "ipython3",
   "version": "3.10.9"
  }
 },
 "nbformat": 4,
 "nbformat_minor": 5
}
